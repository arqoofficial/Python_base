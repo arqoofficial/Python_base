{
 "cells": [
  {
   "cell_type": "markdown",
   "metadata": {},
   "source": [
    "Function"
   ]
  },
  {
   "cell_type": "code",
   "execution_count": 1,
   "metadata": {},
   "outputs": [],
   "source": [
    "import numpy as np\n",
    "def get_scaled(data):\n",
    "    data = np.array(data)\n",
    "    result = (data.transpose() - data.min(axis=1)) / (data.max(axis=1) - data.min(axis=1))\n",
    "    result = result.transpose()\n",
    "    return result\n"
   ]
  },
  {
   "cell_type": "markdown",
   "metadata": {},
   "source": [
    "Input"
   ]
  },
  {
   "cell_type": "code",
   "execution_count": 2,
   "metadata": {},
   "outputs": [
    {
     "name": "stdout",
     "output_type": "stream",
     "text": [
      "[[-165.95599059  440.64898688 -999.77125037 -395.33485474 -706.48821837]\n",
      " [-815.32281046 -627.47957724 -308.87854591 -206.46505154   77.63346801]\n",
      " [-161.61097119  370.43900079 -591.09550054  756.23487278 -945.2248136 ]]\n"
     ]
    }
   ],
   "source": [
    "np.random.seed(1)\n",
    "data = np.random.uniform(-1000, 1000, (3, 5))\n",
    "print(data)"
   ]
  },
  {
   "cell_type": "markdown",
   "metadata": {},
   "source": [
    "Output"
   ]
  },
  {
   "cell_type": "code",
   "execution_count": 3,
   "metadata": {},
   "outputs": [
    {
     "name": "stdout",
     "output_type": "stream",
     "text": [
      "[[0.57886944 1.         0.         0.41962504 0.20360935]\n",
      " [0.         0.21036106 0.5671546  0.68184498 1.        ]\n",
      " [0.46055387 0.77325594 0.20813265 1.         0.        ]]\n"
     ]
    }
   ],
   "source": [
    "print(get_scaled(data))\n"
   ]
  },
  {
   "cell_type": "code",
   "execution_count": 4,
   "metadata": {},
   "outputs": [
    {
     "name": "stdout",
     "output_type": "stream",
     "text": [
      "[[0.40366972 0.         0.49541284 1.         0.8440367 ]\n",
      " [1.         0.         0.53810982 0.79615179 0.83280145]\n",
      " [0.         0.         1.         0.         1.        ]\n",
      " [1.         0.05477032 0.91696113 0.         0.92756184]\n",
      " [0.02097902 0.         1.         0.72027972 0.94405594]]\n"
     ]
    }
   ],
   "source": [
    "data = [\n",
    "    [25, -19, 35, 90, 73],\n",
    "    [14.86452745, -26.8915466, -4.42219305, 6.3526264, 7.88297253],\n",
    "    [0, 0, 1, 0, 1],\n",
    "    [837, 302, 790, 271, 796],\n",
    "    [49.97, 49.94, 51.37, 50.97, 51.29]]\n",
    "\n",
    "print(get_scaled(data))"
   ]
  }
 ],
 "metadata": {
  "kernelspec": {
   "display_name": "Python 3",
   "language": "python",
   "name": "python3"
  },
  "language_info": {
   "codemirror_mode": {
    "name": "ipython",
    "version": 3
   },
   "file_extension": ".py",
   "mimetype": "text/x-python",
   "name": "python",
   "nbconvert_exporter": "python",
   "pygments_lexer": "ipython3",
   "version": "3.11.0"
  },
  "orig_nbformat": 4,
  "vscode": {
   "interpreter": {
    "hash": "2eb4bf021ca465a07efdaf8430f2f221b29a6a8823dd534445b38e13c28a3f68"
   }
  }
 },
 "nbformat": 4,
 "nbformat_minor": 2
}
